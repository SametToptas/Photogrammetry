{
 "cells": [
  {
   "cell_type": "code",
   "execution_count": 228,
   "metadata": {},
   "outputs": [],
   "source": [
    "# Camera parameters entered as input\n",
    "pixel_size = 0.0000052 # (in meter)\n",
    "focal_lenth = 0.079800 # (in meter)\n",
    "width = 13080 # (in pixel)\n",
    "height = 20010 # (in pixel)\n",
    "gsd = 0.3 # (in meter)\n",
    "endlap = 0.6 # (minimum must be set to 60%)\n",
    "sidelap = 0.3 # (minimum must be set to 30%)\n",
    "mean_terrain_elev = 600 # (in meter)\n",
    "upper_leftx = 499625 -10    # (in meter)\n",
    "upper_lefty = 4263800 +10    # (in meter)\n",
    "lower_rightx = 503900 +10    # (in meter)\n",
    "lower_righty = 4254400 -10    # (in meter)"
   ]
  },
  {
   "cell_type": "code",
   "execution_count": 229,
   "metadata": {},
   "outputs": [],
   "source": [
    "# I found the other corner coordinates in the image\n",
    "upper_rightx = 503900 +10     # (in meter)\n",
    "upper_righty = 4263800 +10   # (in meter)\n",
    "lower_leftx = 499625 -10     # (in meter)\n",
    "lower_lefty = 4254400 -10      # (in meter)"
   ]
  },
  {
   "cell_type": "code",
   "execution_count": 230,
   "metadata": {},
   "outputs": [
    {
     "name": "stdout",
     "output_type": "stream",
     "text": [
      "5203.846153846153\n"
     ]
    }
   ],
   "source": [
    "# I found the flight altitude with a formula, which also gives us the Z coordinate\n",
    "flight_altitude = ((focal_lenth * gsd)/pixel_size) + mean_terrain_elev  # Z coordinate in meter\n",
    "print(flight_altitude)"
   ]
  },
  {
   "cell_type": "code",
   "execution_count": 231,
   "metadata": {},
   "outputs": [
    {
     "name": "stdout",
     "output_type": "stream",
     "text": [
      "23555772.0\n"
     ]
    }
   ],
   "source": [
    "# Total Image Foot Print\n",
    "img_foot_print = (width * gsd)*(height * gsd)\n",
    "print(img_foot_print)"
   ]
  },
  {
   "cell_type": "code",
   "execution_count": 232,
   "metadata": {},
   "outputs": [],
   "source": [
    "# area in the image\n",
    "footprınt_x = (gsd) * (width)\n",
    "footprınt_y = (gsd) * (height)"
   ]
  },
  {
   "cell_type": "code",
   "execution_count": 233,
   "metadata": {},
   "outputs": [],
   "source": [
    "overlap_x1 = footprınt_x * endlap\n",
    "overlap_y1 = footprınt_y * 0.7\n",
    "overlap_x2 = footprınt_x * 0.4\n",
    "overlap_y2 = footprınt_y * sidelap"
   ]
  },
  {
   "cell_type": "code",
   "execution_count": 234,
   "metadata": {},
   "outputs": [],
   "source": [
    "# Check for unreasonable values and set warnings\n",
    "if endlap < 0.6:\n",
    "    print(\"Warning: Endlap is below minimum value of 60%.\")\n",
    "if sidelap < 0.3:\n",
    "    print(\"Warning: Sidelap is below minimum value of 30%.\")\n",
    "if gsd <= 0:\n",
    "    print(\"Warning: GSD must be a positive value\")"
   ]
  },
  {
   "cell_type": "code",
   "execution_count": 235,
   "metadata": {},
   "outputs": [
    {
     "name": "stdout",
     "output_type": "stream",
     "text": [
      "Image footprint coordinates: ( ulx_grıd1: 497260.6, uly_grıd1: 4265610.9, lrx_grıd1: 501184.6, lry_grıd1:4259607.9)\n",
      "Image perspective center coordinates: ( X: 499222.6, Y: 4262609.4, Z: 5203.846153846153)\n"
     ]
    }
   ],
   "source": [
    "ulx_grıd1 =upper_leftx - overlap_x1\n",
    "uly_grıd1 =upper_lefty + overlap_y2\n",
    "\n",
    "lrx_grıd1 =upper_leftx + overlap_x2\n",
    "lry_grıd1 =upper_lefty - overlap_y1\n",
    "\n",
    "center_grıd1_x =((ulx_grıd1 + lrx_grıd1) / 2)\n",
    "center_grıd1_y =((uly_grıd1 + lry_grıd1) / 2)\n",
    "\n",
    "print(\"Image footprint coordinates: ( ulx_grıd1: {}, uly_grıd1: {}, lrx_grıd1: {}, lry_grıd1:{})\".format(ulx_grıd1,uly_grıd1,lrx_grıd1,lry_grıd1))\n",
    "print(\"Image perspective center coordinates: ( X: {}, Y: {}, Z: {})\".format(center_grıd1_x,center_grıd1_y,flight_altitude))"
   ]
  },
  {
   "cell_type": "code",
   "execution_count": 236,
   "metadata": {},
   "outputs": [
    {
     "name": "stdout",
     "output_type": "stream",
     "text": [
      "Image footprint coordinates: ( ulx_grıd2: 499615.0, uly_grıd2: 4265610.9, lrx_grıd2: 503539.0, lry_grıd2:4259607.9)\n",
      "Image perspective center coordinates: ( X: 501577.0, Y: 4262609.4, Z: 5203.846153846153)\n"
     ]
    }
   ],
   "source": [
    "ulx_grıd2 =ulx_grıd1 + overlap_x1\n",
    "uly_grıd2 =upper_lefty + overlap_y2\n",
    "\n",
    "lrx_grıd2 =lrx_grıd1 + + overlap_x1\n",
    "lry_grıd2 =upper_lefty - overlap_y1\n",
    "\n",
    "center_grıd2_x =((ulx_grıd2 + lrx_grıd2) / 2)\n",
    "center_grıd2_y =((uly_grıd2 + lry_grıd2) / 2)\n",
    "\n",
    "print(\"Image footprint coordinates: ( ulx_grıd2: {}, uly_grıd2: {}, lrx_grıd2: {}, lry_grıd2:{})\".format(ulx_grıd2,uly_grıd2,lrx_grıd2,lry_grıd2))\n",
    "print(\"Image perspective center coordinates: ( X: {}, Y: {}, Z: {})\".format(center_grıd2_x,center_grıd2_y,flight_altitude))"
   ]
  },
  {
   "cell_type": "code",
   "execution_count": 237,
   "metadata": {},
   "outputs": [
    {
     "name": "stdout",
     "output_type": "stream",
     "text": [
      "Image footprint coordinates: ( ulx_grıd3: 501184.6, uly_grıd3: 4265610.9, lrx_grıd3: 505108.6, lry_grıd3:4259607.9)\n",
      "Image perspective center coordinates: ( X: 503146.6, Y: 4262609.4, Z: 5203.846153846153)\n"
     ]
    }
   ],
   "source": [
    "ulx_grıd3 =ulx_grıd2 + overlap_x2\n",
    "uly_grıd3 =upper_lefty + overlap_y2\n",
    "\n",
    "lrx_grıd3 =lrx_grıd2 + overlap_x2\n",
    "lry_grıd3 =upper_lefty - overlap_y1\n",
    "\n",
    "center_grıd3_x =((ulx_grıd3 + lrx_grıd3) / 2)\n",
    "center_grıd3_y =((uly_grıd3 + lry_grıd3) / 2)\n",
    "\n",
    "print(\"Image footprint coordinates: ( ulx_grıd3: {}, uly_grıd3: {}, lrx_grıd3: {}, lry_grıd3:{})\".format(ulx_grıd3,uly_grıd3,lrx_grıd3,lry_grıd3))\n",
    "print(\"Image perspective center coordinates: ( X: {}, Y: {}, Z: {})\".format(center_grıd3_x,center_grıd3_y,flight_altitude))"
   ]
  },
  {
   "cell_type": "code",
   "execution_count": 238,
   "metadata": {},
   "outputs": [
    {
     "name": "stdout",
     "output_type": "stream",
     "text": [
      "Image footprint coordinates: ( ulx_grıd4: 503539.0, uly_grıd4: 4265610.9, lrx_grıd4: 507463.0, lry_grıd4:4259607.9)\n",
      "Image perspective center coordinates: ( X: 505501.0, Y: 4262609.4, Z: 5203.846153846153)\n"
     ]
    }
   ],
   "source": [
    "ulx_grıd4 =ulx_grıd3 + overlap_x1\n",
    "uly_grıd4 =upper_lefty + overlap_y2\n",
    "\n",
    "lrx_grıd4 =lrx_grıd3 + overlap_x1\n",
    "lry_grıd4 =upper_lefty - overlap_y1\n",
    "\n",
    "center_grıd4_x =((ulx_grıd4 + lrx_grıd4) / 2)\n",
    "center_grıd4_y =((uly_grıd4 + lry_grıd4) / 2)\n",
    "\n",
    "print(\"Image footprint coordinates: ( ulx_grıd4: {}, uly_grıd4: {}, lrx_grıd4: {}, lry_grıd4:{})\".format(ulx_grıd4,uly_grıd4,lrx_grıd4,lry_grıd4))\n",
    "print(\"Image perspective center coordinates: ( X: {}, Y: {}, Z: {})\".format(center_grıd4_x,center_grıd4_y,flight_altitude))"
   ]
  },
  {
   "cell_type": "code",
   "execution_count": 239,
   "metadata": {},
   "outputs": [
    {
     "name": "stdout",
     "output_type": "stream",
     "text": [
      "Image footprint coordinates: ( ulx_grıd8: 497260.6, uly_grıd8: 4256190.9, lrx_grıd8: 501184.6, lry_grıd8:4250187.9)\n",
      "Image perspective center coordinates: ( X: 499222.6, Y: 4253189.4, Z: 5203.846153846153)\n"
     ]
    }
   ],
   "source": [
    "ulx_grıd8 =lower_leftx - overlap_x1\n",
    "uly_grıd8 =lower_lefty + overlap_y2\n",
    "\n",
    "lrx_grıd8 =lower_leftx + overlap_x2\n",
    "lry_grıd8 =lower_lefty - overlap_y1\n",
    "\n",
    "center_grıd8_x =((ulx_grıd8 + lrx_grıd8) / 2)\n",
    "center_grıd8_y =((uly_grıd8 + lry_grıd8) / 2)\n",
    "\n",
    "print(\"Image footprint coordinates: ( ulx_grıd8: {}, uly_grıd8: {}, lrx_grıd8: {}, lry_grıd8:{})\".format(ulx_grıd8,uly_grıd8,lrx_grıd8,lry_grıd8))\n",
    "print(\"Image perspective center coordinates: ( X: {}, Y: {}, Z: {})\".format(center_grıd8_x,center_grıd8_y,flight_altitude))"
   ]
  },
  {
   "cell_type": "code",
   "execution_count": 240,
   "metadata": {},
   "outputs": [
    {
     "name": "stdout",
     "output_type": "stream",
     "text": [
      "Image footprint coordinates: ( ulx_grıd7: 499615.0, uly_grıd7: 4256190.9, lrx_grıd7: 503539.0, lry_grıd7:4250187.9)\n",
      "Image perspective center coordinates: ( X: 501577.0, Y: 4253189.4, Z: 5203.846153846153)\n"
     ]
    }
   ],
   "source": [
    "ulx_grıd7 =ulx_grıd8 + overlap_x1\n",
    "uly_grıd7 =lower_lefty + overlap_y2\n",
    "\n",
    "lrx_grıd7 =lrx_grıd8 + overlap_x1\n",
    "lry_grıd7 =lower_lefty - overlap_y1\n",
    "\n",
    "center_grıd7_x =((ulx_grıd7 + lrx_grıd7) / 2)\n",
    "center_grıd7_y =((uly_grıd7 + lry_grıd7) / 2)\n",
    "\n",
    "print(\"Image footprint coordinates: ( ulx_grıd7: {}, uly_grıd7: {}, lrx_grıd7: {}, lry_grıd7:{})\".format(ulx_grıd7,uly_grıd7,lrx_grıd7,lry_grıd7))\n",
    "print(\"Image perspective center coordinates: ( X: {}, Y: {}, Z: {})\".format(center_grıd7_x,center_grıd7_y,flight_altitude))"
   ]
  },
  {
   "cell_type": "code",
   "execution_count": 241,
   "metadata": {},
   "outputs": [
    {
     "name": "stdout",
     "output_type": "stream",
     "text": [
      "Image footprint coordinates: ( ulx_grıd6: 501184.6, uly_grıd6: 4256190.9, lrx_grıd6: 505108.6, lry_grıd6:4250187.9)\n",
      "Image perspective center coordinates: ( X: 503146.6, Y: 4253189.4, Z: 5203.846153846153)\n"
     ]
    }
   ],
   "source": [
    "ulx_grıd6 =ulx_grıd7 + overlap_x2\n",
    "uly_grıd6 =lower_lefty + overlap_y2\n",
    "\n",
    "lrx_grıd6 =lrx_grıd7 + overlap_x2\n",
    "lry_grıd6 =lower_lefty - overlap_y1\n",
    "\n",
    "center_grıd6_x =((ulx_grıd6 + lrx_grıd6) / 2)\n",
    "center_grıd6_y =((uly_grıd6 + lry_grıd6) / 2)\n",
    "\n",
    "print(\"Image footprint coordinates: ( ulx_grıd6: {}, uly_grıd6: {}, lrx_grıd6: {}, lry_grıd6:{})\".format(ulx_grıd6,uly_grıd6,lrx_grıd6,lry_grıd6))\n",
    "print(\"Image perspective center coordinates: ( X: {}, Y: {}, Z: {})\".format(center_grıd6_x,center_grıd6_y,flight_altitude))"
   ]
  },
  {
   "cell_type": "code",
   "execution_count": 242,
   "metadata": {},
   "outputs": [
    {
     "name": "stdout",
     "output_type": "stream",
     "text": [
      "Image footprint coordinates: ( ulx_grıd5: 503539.0, uly_grıd5: 4256190.9, lrx_grıd5: 507463.0, lry_grıd5:4250187.9)\n",
      "Image perspective center coordinates: ( X: 505501.0, Y: 4253189.4, Z: 5203.846153846153)\n"
     ]
    }
   ],
   "source": [
    "ulx_grıd5 =ulx_grıd6 + overlap_x1\n",
    "uly_grıd5 =lower_lefty + overlap_y2\n",
    "\n",
    "lrx_grıd5 =lrx_grıd6 + overlap_x1\n",
    "lry_grıd5 =lower_lefty - overlap_y1\n",
    "\n",
    "center_grıd5_x =((ulx_grıd5 + lrx_grıd5) / 2)\n",
    "center_grıd5_y =((uly_grıd5 + lry_grıd5) / 2)\n",
    "\n",
    "print(\"Image footprint coordinates: ( ulx_grıd5: {}, uly_grıd5: {}, lrx_grıd5: {}, lry_grıd5:{})\".format(ulx_grıd5,uly_grıd5,lrx_grıd5,lry_grıd5))\n",
    "print(\"Image perspective center coordinates: ( X: {}, Y: {}, Z: {})\".format(center_grıd5_x,center_grıd5_y,flight_altitude))"
   ]
  },
  {
   "cell_type": "code",
   "execution_count": 243,
   "metadata": {},
   "outputs": [
    {
     "name": "stdout",
     "output_type": "stream",
     "text": [
      "+------------+------------+------------+------------+------------+------------+------------+------------+\n",
      "| Image #    |   ULX      | ULY        | LRX        | LRY        |     Center X   |    Center Y   |  Center Z\n",
      "+------------+------------+------------+------------+------------+------------+------------+------------+\n",
      "| Grid 1     | 497260.6    | 4265610.9    | 501184.6    | 4259607.9    | 499222.6    | 4262609.4    | 5203.8\n",
      "+------------+------------+------------+------------+------------+------------+------------+------------+\n",
      "| Grid 2     | 499615.0    | 4265610.9    | 503539.0    | 4259607.9    | 501577.0    | 4262609.4    | 5203.8\n",
      "+------------+------------+------------+------------+------------+------------+------------+------------+\n",
      "| Grid 3     | 501184.6    | 4265610.9    | 505108.6    | 4259607.9    | 503146.6    | 4262609.4    | 5203.8\n",
      "+------------+------------+------------+------------+------------+------------+------------+------------+\n",
      "| Grid 4     | 503539.0    | 4265610.9    | 507463.0    | 4259607.9    | 505501.0    | 4262609.4    | 5203.8\n",
      "+------------+------------+------------+------------+------------+------------+------------+------------+\n",
      "| Grid 5     | 503539.0    | 4256190.9    | 507463.0    | 4250187.9    | 505501.0    | 4253189.4    | 5203.8\n",
      "+------------+------------+------------+------------+------------+------------+------------+------------+\n",
      "| Grid 6     | 501184.6    | 4256190.9    | 505108.6    | 4250187.9    | 503146.6    | 4253189.4    | 5203.8\n",
      "+------------+------------+------------+------------+------------+------------+------------+------------+\n",
      "| Grid 7     | 499615.0    | 4256190.9    | 503539.0    | 4250187.9    | 501577.0    | 4253189.4    | 5203.8\n",
      "+------------+------------+------------+------------+------------+------------+------------+------------+\n",
      "| Grid 8     | 497260.6    | 4256190.9    | 501184.6    | 4250187.9    | 499222.6    | 4253189.4    | 5203.8\n"
     ]
    }
   ],
   "source": [
    "print(\"+------------+------------+------------+------------+------------+------------+------------+------------+\")\n",
    "print(\"| Image #    |   ULX      | ULY        | LRX        | LRY        |     Center X   |    Center Y   |  Center Z\")\n",
    "print(\"+------------+------------+------------+------------+------------+------------+------------+------------+\")\n",
    "print(\"| Grid 1     | {:.1f}    | {:.1f}    | {:.1f}    | {:.1f}    | {:.1f}    | {:.1f}    | {:.1f}\".format(ulx_grıd1, uly_grıd1, lrx_grıd1, lry_grıd1, center_grıd1_x, center_grıd1_y,flight_altitude))\n",
    "print(\"+------------+------------+------------+------------+------------+------------+------------+------------+\")\n",
    "print(\"| Grid 2     | {:.1f}    | {:.1f}    | {:.1f}    | {:.1f}    | {:.1f}    | {:.1f}    | {:.1f}\".format(ulx_grıd2, uly_grıd2, lrx_grıd2, lry_grıd2, center_grıd2_x, center_grıd2_y,flight_altitude))\n",
    "print(\"+------------+------------+------------+------------+------------+------------+------------+------------+\")\n",
    "print(\"| Grid 3     | {:.1f}    | {:.1f}    | {:.1f}    | {:.1f}    | {:.1f}    | {:.1f}    | {:.1f}\".format(ulx_grıd3, uly_grıd3, lrx_grıd3, lry_grıd3, center_grıd3_x, center_grıd3_y,flight_altitude))\n",
    "print(\"+------------+------------+------------+------------+------------+------------+------------+------------+\")\n",
    "print(\"| Grid 4     | {:.1f}    | {:.1f}    | {:.1f}    | {:.1f}    | {:.1f}    | {:.1f}    | {:.1f}\".format(ulx_grıd4, uly_grıd4, lrx_grıd4, lry_grıd4, center_grıd4_x, center_grıd4_y,flight_altitude))\n",
    "print(\"+------------+------------+------------+------------+------------+------------+------------+------------+\")\n",
    "print(\"| Grid 5     | {:.1f}    | {:.1f}    | {:.1f}    | {:.1f}    | {:.1f}    | {:.1f}    | {:.1f}\".format(ulx_grıd5, uly_grıd5, lrx_grıd5, lry_grıd5, center_grıd5_x, center_grıd5_y,flight_altitude))\n",
    "print(\"+------------+------------+------------+------------+------------+------------+------------+------------+\")\n",
    "print(\"| Grid 6     | {:.1f}    | {:.1f}    | {:.1f}    | {:.1f}    | {:.1f}    | {:.1f}    | {:.1f}\".format(ulx_grıd6, uly_grıd6, lrx_grıd6, lry_grıd6, center_grıd6_x, center_grıd6_y,flight_altitude))\n",
    "print(\"+------------+------------+------------+------------+------------+------------+------------+------------+\")\n",
    "print(\"| Grid 7     | {:.1f}    | {:.1f}    | {:.1f}    | {:.1f}    | {:.1f}    | {:.1f}    | {:.1f}\".format(ulx_grıd7, uly_grıd7, lrx_grıd7, lry_grıd7, center_grıd7_x, center_grıd7_y,flight_altitude))\n",
    "print(\"+------------+------------+------------+------------+------------+------------+------------+------------+\")\n",
    "print(\"| Grid 8     | {:.1f}    | {:.1f}    | {:.1f}    | {:.1f}    | {:.1f}    | {:.1f}    | {:.1f}\".format(ulx_grıd8, uly_grıd8, lrx_grıd8, lry_grıd8, center_grıd8_x, center_grıd8_y,flight_altitude))\n",
    "\n"
   ]
  },
  {
   "cell_type": "code",
   "execution_count": 251,
   "metadata": {},
   "outputs": [
    {
     "name": "stdout",
     "output_type": "stream",
     "text": [
      "Sufficient overlap between images 1 and 2\n",
      "Sufficient overlap between images 2 and 3\n",
      "Sufficient overlap between images 2 and 3\n",
      "Insufficient overlap between images 2 and 3\n",
      "Sufficient overlap between images 2 and 3\n",
      "Sufficient overlap between images 2 and 3\n",
      "Sufficient overlap between images 2 and 3\n"
     ]
    }
   ],
   "source": [
    "# Q2)) I calculated the overlap between Images in Question 2 in Assignment\n",
    "\n",
    "\n",
    "# in this step I calculate the required minimum overlap in the x and y directions\n",
    "required_overlap_x = footprınt_x * min(endlap, sidelap)\n",
    "required_overlap_y = footprınt_y * min(endlap, sidelap)\n",
    "\n",
    "# in this step I calculate the actual overlap between images in x and y directions\n",
    "actual_overlap_x_1_2 = lrx_grıd2 - ulx_grıd1\n",
    "actual_overlap_y_1_2 = uly_grıd2 - lry_grıd1\n",
    "\n",
    "actual_overlap_x_2_3 = lrx_grıd3 - ulx_grıd2\n",
    "actual_overlap_y_2_3 = uly_grıd3 - lry_grıd2\n",
    "\n",
    "actual_overlap_x_3_4 = lrx_grıd4 - ulx_grıd3\n",
    "actual_overlap_y_3_4 = uly_grıd4 - lry_grıd3\n",
    "\n",
    "actual_overlap_x_4_5 = lrx_grıd5 - ulx_grıd4\n",
    "actual_overlap_y_4_5 = uly_grıd5 - lry_grıd4\n",
    "\n",
    "actual_overlap_x_5_6 = lrx_grıd6 - ulx_grıd5\n",
    "actual_overlap_y_5_6 = uly_grıd6 - lry_grıd5\n",
    "\n",
    "actual_overlap_x_6_7 = lrx_grıd7 - ulx_grıd6\n",
    "actual_overlap_y_6_7 = uly_grıd7 - lry_grıd6\n",
    "\n",
    "actual_overlap_x_7_8 = lrx_grıd8 - ulx_grıd7\n",
    "actual_overlap_y_7_8 = uly_grıd8 - lry_grıd7\n",
    "\n",
    "\n",
    "# in this step I check if the actual overlap between images is less than the required overlap in the x or y direction\n",
    "if actual_overlap_x_1_2 < required_overlap_x or actual_overlap_y_1_2 < required_overlap_y:\n",
    "  print(\"Insufficient overlap between images 1 and 2\")\n",
    "else:\n",
    "  print(\"Sufficient overlap between images 1 and 2\")\n",
    "\n",
    "\n",
    "if actual_overlap_x_2_3 < required_overlap_x or actual_overlap_y_2_3 < required_overlap_y:\n",
    "  print(\"Insufficient overlap between images 2 and 3\")\n",
    "else:\n",
    "  print(\"Sufficient overlap between images 2 and 3\")\n",
    "\n",
    "if actual_overlap_x_3_4 < required_overlap_x or actual_overlap_y_3_4 < required_overlap_y:\n",
    "  print(\"Insufficient overlap between images 2 and 3\")\n",
    "else:\n",
    "  print(\"Sufficient overlap between images 2 and 3\")\n",
    "\n",
    "if actual_overlap_x_4_5 < required_overlap_x or actual_overlap_y_4_5 < required_overlap_y:\n",
    "  print(\"Insufficient overlap between images 2 and 3\")\n",
    "else:\n",
    "  print(\"Sufficient overlap between images 2 and 3\")\n",
    "\n",
    "if actual_overlap_x_5_6 < required_overlap_x or actual_overlap_y_5_6 < required_overlap_y:\n",
    "  print(\"Insufficient overlap between images 2 and 3\")\n",
    "else:\n",
    "  print(\"Sufficient overlap between images 2 and 3\")\n",
    "\n",
    "if actual_overlap_x_6_7 < required_overlap_x or actual_overlap_y_6_7 < required_overlap_y:\n",
    "  print(\"Insufficient overlap between images 2 and 3\")\n",
    "else:\n",
    "  print(\"Sufficient overlap between images 2 and 3\")\n",
    "\n",
    "if actual_overlap_x_7_8 < required_overlap_x or actual_overlap_y_7_8 < required_overlap_y:\n",
    "  print(\"Insufficient overlap between images 2 and 3\")\n",
    "else:\n",
    "  print(\"Sufficient overlap between images 2 and 3\")"
   ]
  },
  {
   "cell_type": "code",
   "execution_count": null,
   "metadata": {},
   "outputs": [],
   "source": []
  },
  {
   "cell_type": "code",
   "execution_count": null,
   "metadata": {},
   "outputs": [],
   "source": []
  }
 ],
 "metadata": {
  "kernelspec": {
   "display_name": "Python 3 (ipykernel)",
   "language": "python",
   "name": "python3"
  },
  "language_info": {
   "codemirror_mode": {
    "name": "ipython",
    "version": 3
   },
   "file_extension": ".py",
   "mimetype": "text/x-python",
   "name": "python",
   "nbconvert_exporter": "python",
   "pygments_lexer": "ipython3",
   "version": "3.9.13"
  }
 },
 "nbformat": 4,
 "nbformat_minor": 4
}
